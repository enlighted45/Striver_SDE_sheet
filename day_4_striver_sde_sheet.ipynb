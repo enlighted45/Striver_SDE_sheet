{
  "nbformat": 4,
  "nbformat_minor": 0,
  "metadata": {
    "colab": {
      "provenance": []
    },
    "kernelspec": {
      "name": "python3",
      "display_name": "Python 3"
    },
    "language_info": {
      "name": "python"
    }
  },
  "cells": [
    {
      "cell_type": "markdown",
      "source": [
        "https://leetcode.com/problems/two-sum/description/"
      ],
      "metadata": {
        "id": "p3hBrrqFipyC"
      }
    },
    {
      "cell_type": "code",
      "execution_count": null,
      "metadata": {
        "colab": {
          "base_uri": "https://localhost:8080/"
        },
        "id": "Ee0UydisUacC",
        "outputId": "90daf8a8-be04-428f-c49d-a58e85396a0e"
      },
      "outputs": [
        {
          "output_type": "stream",
          "name": "stdout",
          "text": [
            "{2: 0, 7: [1, 3, 4], 11: 2, 15: 5}\n",
            "<class 'list'>\n"
          ]
        }
      ],
      "source": [
        "nums = [2,7,11,7,7,15];\n",
        "my_dict = dict();\n",
        "for i in range(0,len(nums)):\n",
        "  if  not (nums[i] in my_dict):\n",
        "    my_dict[nums[i]]=i;\n",
        "  else :\n",
        "     lst = my_dict.get(nums[i]);\n",
        "     if (type(lst) == int):\n",
        "         prev = my_dict.get(nums[i]);\n",
        "         lst = [prev,i];\n",
        "         my_dict[nums[i]]=lst;\n",
        "     else:\n",
        "          lst.append(i);\n",
        "\n"
      ]
    },
    {
      "cell_type": "code",
      "source": [
        "def twoSum(nums, target):\n",
        "  ans = list();\n",
        "  my_dict = dict();\n",
        "  for i in range(0,len(nums)):\n",
        "    if  not (nums[i] in my_dict):\n",
        "        my_dict[nums[i]]=i;\n",
        "    else :\n",
        "        lst = my_dict.get(nums[i]);\n",
        "        if (type(lst) == int):\n",
        "            prev = my_dict.get(nums[i]);\n",
        "            lst = [prev,i];\n",
        "            my_dict[nums[i]]=lst;\n",
        "        else:\n",
        "              lst.append(i);\n",
        "  print(my_dict)\n",
        "  l = len(nums);\n",
        "  for i in range(0,l):\n",
        "    alt=target-nums[i];\n",
        "    if(alt!=nums[i] and alt in my_dict):\n",
        "        if(type(my_dict.get(alt))==int):\n",
        "          ans = [i,my_dict.get(alt)];\n",
        "          return ans;\n",
        "        else:\n",
        "          ans = [i,my_dict.get(alt)[0]];\n",
        "          return ans;\n",
        "    elif(alt==nums[i] and alt in my_dict):\n",
        "        lst = my_dict.get(nums[i]);\n",
        "        if (type(lst)==list):\n",
        "          ans = [lst[0],lst[1]];\n",
        "          return ans;\n",
        "  return ans;\n",
        "nums = [3,2,4];\n",
        "target = 6;\n",
        "print(twoSum(nums,target));\n",
        "\n",
        "\n",
        "\n",
        "\n"
      ],
      "metadata": {
        "colab": {
          "base_uri": "https://localhost:8080/"
        },
        "id": "qukO0wefcg4x",
        "outputId": "6c7e0eeb-ee35-4f6d-e871-65ff07f9b3a2"
      },
      "execution_count": null,
      "outputs": [
        {
          "output_type": "stream",
          "name": "stdout",
          "text": [
            "{3: 0, 2: 1, 4: 2}\n",
            "[1, 2]\n"
          ]
        }
      ]
    },
    {
      "cell_type": "markdown",
      "source": [
        "longest consecutive sequence : https://leetcode.com/problems/longest-consecutive-sequence/description/"
      ],
      "metadata": {
        "id": "94iQzkENsP9B"
      }
    },
    {
      "cell_type": "code",
      "source": [
        "''' this solution is nlogn'''\n",
        "def longestConsecutive(nums):\n",
        "  l = len(nums);\n",
        "  nums = sorted(nums);\n",
        "  print(nums)\n",
        "  i =int(0); j = int(1); ans = int(0); count = int(0);\n",
        "  while(i<l and j<l):\n",
        "\n",
        "    if nums[j]-nums[j-1]==1 or nums[j]-nums[j-1]==0 :\n",
        "      if nums[j]-nums[j-1]==0:\n",
        "        count = count+1;\n",
        "      j= j+1;\n",
        "\n",
        "    else:\n",
        "      ans = max(ans,j-i-count);\n",
        "      count=0;\n",
        "      i = j;\n",
        "      j = j+1;\n",
        "\n",
        "  if l==0:\n",
        "    return 0;\n",
        "  ans = max(ans,j-i-count);\n",
        "\n",
        "  return ans;\n",
        "\n",
        "\n",
        "\n",
        "nums=[1,2,0,1];\n",
        "print(longestConsecutive(nums))"
      ],
      "metadata": {
        "colab": {
          "base_uri": "https://localhost:8080/"
        },
        "id": "fNExMmSNsW4d",
        "outputId": "aa5fb812-dd79-4959-8ba0-622281bcb79f"
      },
      "execution_count": null,
      "outputs": [
        {
          "output_type": "stream",
          "name": "stdout",
          "text": [
            "[0, 1, 1, 2]\n",
            "3\n"
          ]
        }
      ]
    },
    {
      "cell_type": "code",
      "source": [
        "def longestConsecutive(nums):\n",
        "   set_1 = set(nums); cnt =0; ans = 0;\n",
        "   for i in set_1:\n",
        "    if not (i-1 in set_1):\n",
        "      l=0;\n",
        "      while(i+l in set_1):\n",
        "        cnt = cnt+1;\n",
        "        l=l+1;\n",
        "      ans = max(ans,cnt);\n",
        "      cnt =0;\n",
        "   return ans;\n",
        "\n",
        "nums=[100,4,200,1,3,2];\n",
        "print(longestConsecutive(nums))\n",
        "\n",
        "\n",
        "\n",
        "\n"
      ],
      "metadata": {
        "colab": {
          "base_uri": "https://localhost:8080/"
        },
        "id": "NZnEBUxt3yAC",
        "outputId": "f620b193-ddc4-4bb8-a8b0-4e29d61aa7f8"
      },
      "execution_count": null,
      "outputs": [
        {
          "output_type": "stream",
          "name": "stdout",
          "text": [
            "4\n"
          ]
        }
      ]
    },
    {
      "cell_type": "code",
      "source": [
        "set_1 = set();\n",
        "chr = 'a'\n",
        "set_1.add(chr)\n",
        "print(set_1);"
      ],
      "metadata": {
        "colab": {
          "base_uri": "https://localhost:8080/"
        },
        "id": "j0ByLJNbFH9M",
        "outputId": "e1143703-5de7-47ed-97be-5dc50ee5f671"
      },
      "execution_count": null,
      "outputs": [
        {
          "output_type": "stream",
          "name": "stdout",
          "text": [
            "{'a'}\n"
          ]
        }
      ]
    },
    {
      "cell_type": "code",
      "source": [
        "def lengthOfLongestSubstring(s) :\n",
        "  i = int(0); j =int(0); my_set = set();\n",
        "  ans = int(0); l = int(len(s));\n",
        "  while(i<l and j<l):\n",
        "    chr = s[j];\n",
        "    if(not (chr in my_set)):\n",
        "      my_set.add(chr);\n",
        "      j = j+1;\n",
        "\n",
        "    else:\n",
        "      ans = max(j-i,ans);\n",
        "      my_set.remove(s[i]);\n",
        "      i = i+1;\n",
        "\n",
        "\n",
        "  ans = max(j-i,ans);\n",
        "  return ans;\n",
        "s = \"abcabcbb\"\n",
        "print(lengthOfLongestSubstring(s))\n"
      ],
      "metadata": {
        "id": "BfAG1-de8SoV",
        "colab": {
          "base_uri": "https://localhost:8080/"
        },
        "outputId": "27f182d5-016e-44ec-d21c-aad31176e62b"
      },
      "execution_count": null,
      "outputs": [
        {
          "output_type": "stream",
          "name": "stdout",
          "text": [
            "3\n",
            "3\n",
            "3\n",
            "3\n",
            "3\n",
            "3\n",
            "3\n",
            "3\n"
          ]
        }
      ]
    },
    {
      "cell_type": "code",
      "source": [
        "def maxLen(self, n, arr):\n",
        "    my_dict = {0:-1};\n",
        "    sum =0;\n",
        "    ans = int(0);\n",
        "    for i in range(0,n):\n",
        "        sum = arr[i]+sum;\n",
        "        if sum in my_dict:\n",
        "            l = my_dict[sum];\n",
        "            ans = max(ans,i-l)\n",
        "        else:\n",
        "          my_dict[sum]=i;\n",
        "\n",
        "    return ans;"
      ],
      "metadata": {
        "colab": {
          "base_uri": "https://localhost:8080/"
        },
        "id": "15_YFr4VJfKV",
        "outputId": "1174216b-bf1f-4fc8-fd77-5a81fb542d41"
      },
      "execution_count": null,
      "outputs": [
        {
          "output_type": "stream",
          "name": "stdout",
          "text": [
            "None\n"
          ]
        }
      ]
    },
    {
      "cell_type": "code",
      "source": [
        "def fourSum(nums, target):\n",
        "  # first what we do is to sort this array\n",
        "  nums = sorted(nums);\n",
        "  print(nums)\n",
        "  ans = [];\n",
        "  for i in range(0,len(nums)):\n",
        "\n",
        "    if(i==0 or nums[i]!=nums[i-1]):\n",
        "\n",
        "      for j in range(i+1,len(nums)):\n",
        "\n",
        "        if(j==i+1 or nums[j]!=nums[j-1]):\n",
        "\n",
        "\n",
        "          k = j+1; l= len(nums)-1;\n",
        "          while(k<l):\n",
        "            sum = nums[i]+nums[j]+nums[k]+nums[l];\n",
        "            if(sum==target):\n",
        "\n",
        "              lst = [nums[i],nums[j],nums[k],nums[l]];\n",
        "              ans.append(lst[:]);\n",
        "              k = k+1; l=l-1;\n",
        "              while(k<len(nums) and nums[k-1]==nums[k]):\n",
        "                k=k+1;\n",
        "                print(k,l)\n",
        "              while(l>=0 and nums[l]==nums[l+1]):\n",
        "                l=l-1;\n",
        "              print(k,l)\n",
        "            elif sum < target:\n",
        "                  k += 1\n",
        "            else:\n",
        "                l -= 1\n",
        "\n",
        "  return ans;\n",
        "\n",
        "nums = [-1,0,-5,-2,-2,-4,0,1,-2]; target = -9\n",
        "print(fourSum(nums, target));"
      ],
      "metadata": {
        "colab": {
          "base_uri": "https://localhost:8080/"
        },
        "id": "VlIvSBeTqGni",
        "outputId": "c6d06cab-b571-4d61-efda-6a32190c41be"
      },
      "execution_count": 129,
      "outputs": [
        {
          "output_type": "stream",
          "name": "stdout",
          "text": [
            "[-5, -4, -2, -2, -2, -1, 0, 0, 1]\n",
            "6\n",
            "6 6\n",
            "5 6\n",
            "5 6\n",
            "5 4\n",
            "3\n",
            "2\n",
            "5 2\n",
            "[[-5, -4, -1, 1], [-5, -2, -2, 0], [-4, -2, -2, -1]]\n"
          ]
        }
      ]
    },
    {
      "cell_type": "code",
      "source": [],
      "metadata": {
        "id": "2ihXvm9YxRYp"
      },
      "execution_count": null,
      "outputs": []
    }
  ]
}