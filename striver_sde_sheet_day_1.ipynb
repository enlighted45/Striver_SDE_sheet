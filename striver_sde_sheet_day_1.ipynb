{
  "nbformat": 4,
  "nbformat_minor": 0,
  "metadata": {
    "colab": {
      "provenance": []
    },
    "kernelspec": {
      "name": "python3",
      "display_name": "Python 3"
    },
    "language_info": {
      "name": "python"
    }
  },
  "cells": [
    {
      "cell_type": "markdown",
      "source": [
        "# SET MATRIX ZERO"
      ],
      "metadata": {
        "id": "SAqi6rvO1I9Y"
      }
    },
    {
      "cell_type": "code",
      "source": [
        "def setZeroes(matrix):\n",
        "  m = len(matrix)\n",
        "  n= len(matrix[0])\n",
        "  set_row = set([])\n",
        "  set_col = set([])\n",
        "  for i in range(0,m):\n",
        "    for j in range(0,n):\n",
        "      if matrix[i][j]==0:\n",
        "        set_row.add(i)\n",
        "        set_col.add(j)\n",
        "  for i in set_row :\n",
        "    for j in range(0,n):\n",
        "      matrix[i][j]=0;\n",
        "  for i in set_col :\n",
        "    for j in range(0,m):\n",
        "      matrix[j][i]=0\n",
        "  return matrix\n",
        "\n",
        "\n",
        "\n"
      ],
      "metadata": {
        "id": "mraaMujDU7LO"
      },
      "execution_count": null,
      "outputs": []
    },
    {
      "cell_type": "markdown",
      "source": [
        "# PASCAL TRIANGLE"
      ],
      "metadata": {
        "id": "QVOjgvvc1T-w"
      }
    },
    {
      "cell_type": "code",
      "source": [
        "def generate(numRows):\n",
        "        ans=[]; i=1;\n",
        "        while i<=numRows:\n",
        "            list1=[];\n",
        "            for j in range(0,i):\n",
        "                if j==0 or j==i-1 :\n",
        "                  list1.append(1)\n",
        "                else:\n",
        "                    ele = ans[i-2][j-1]+ans[i-2][j]\n",
        "                    list1.append(ele)\n",
        "            ans.append(list1)\n",
        "            i=i+1\n",
        "        return ans\n"
      ],
      "metadata": {
        "id": "F9luBoCMdCks"
      },
      "execution_count": null,
      "outputs": []
    },
    {
      "cell_type": "markdown",
      "source": [
        "# NEXT - PERMUTATION"
      ],
      "metadata": {
        "id": "6VdPnvaHiIBh"
      }
    },
    {
      "cell_type": "code",
      "source": [
        "def nextPermutation(nums):\n",
        "        i=len(nums)-1;\n",
        "        while(i>=1 and nums[i] <= nums[i-1]):\n",
        "            i=i-1;\n",
        "        nge=len(nums)-1;\n",
        "        while(nums[nge]<=nums[i-1]):\n",
        "          nge=nge-1;\n",
        "        print(nge)\n",
        "        if(i!=0):\n",
        "            a=nums[i-1];\n",
        "            nums[i-1]=nums[nge];\n",
        "            nums[nge]=a;\n",
        "            print(nums)\n",
        "        j = len(nums)-1;\n",
        "        while(i<j):\n",
        "            a = nums[i];\n",
        "            nums[i]=nums[j];\n",
        "            nums[j]=a;\n",
        "            i=i+1;\n",
        "            j=j-1;\n",
        "        return nums;\n",
        "\n"
      ],
      "metadata": {
        "id": "iYnIR67uiG3s"
      },
      "execution_count": null,
      "outputs": []
    },
    {
      "cell_type": "code",
      "source": [
        "nums=[2,3,1]\n",
        "print(nextPermutation(nums))"
      ],
      "metadata": {
        "colab": {
          "base_uri": "https://localhost:8080/"
        },
        "id": "4fd_BUapkh_q",
        "outputId": "8b329236-1214-4b45-d726-fe5fb0d7ad4b"
      },
      "execution_count": null,
      "outputs": [
        {
          "output_type": "stream",
          "name": "stdout",
          "text": [
            "1\n",
            "[3, 2, 1]\n",
            "[3, 1, 2]\n"
          ]
        }
      ]
    },
    {
      "cell_type": "markdown",
      "source": [
        "# KADANE ALGORITHM"
      ],
      "metadata": {
        "id": "MNg2JGCi1lA0"
      }
    },
    {
      "cell_type": "code",
      "source": [
        "    def maxSubArray(self, nums):\n",
        "        \"\"\"\n",
        "        :type nums: List[int]\n",
        "        :rtype: int\n",
        "        \"\"\"\n",
        "        max_sum=0;\n",
        "        sum=0;\n",
        "        for i in range(0,len(nums)):\n",
        "            sum = sum+nums[i];\n",
        "            max_sum = max(max_sum,sum);\n",
        "            if sum<0:\n",
        "                sum=0;\n",
        "\n",
        "        if max_sum==0:\n",
        "            max_sum = nums[0];\n",
        "            for i in range(0,len(nums)):\n",
        "                max_sum = max(max_sum,nums[i]);\n",
        "\n",
        "        return max_sum;"
      ],
      "metadata": {
        "id": "n_nMfPqyvKRG"
      },
      "execution_count": null,
      "outputs": []
    },
    {
      "cell_type": "markdown",
      "source": [
        "# SORT COLORS"
      ],
      "metadata": {
        "id": "nO5gpRyo3-zd"
      }
    },
    {
      "cell_type": "code",
      "source": [
        "def sortColors(self, nums):\n",
        "        \"\"\"\n",
        "        :type nums: List[int]\n",
        "        :rtype: None Do not return anything, modify nums in-place instead.\n",
        "        \"\"\"\n",
        "        st=0; end = len(nums)-1; mov=0;\n",
        "        while mov<=end:\n",
        "\n",
        "            if nums[mov]==0:\n",
        "                a=nums[mov];\n",
        "                nums[mov]=nums[st];\n",
        "                nums[st]=a;\n",
        "                st=st+1;\n",
        "                mov=mov+1;\n",
        "\n",
        "            elif nums[mov]==2:\n",
        "                a=nums[mov];\n",
        "                nums[mov]=nums[end];\n",
        "                nums[end]=a;\n",
        "                end=end-1;\n",
        "\n",
        "            elif nums[mov]==1:\n",
        "                mov=mov+1;\n",
        "\n",
        "\n",
        "\n",
        "\n"
      ],
      "metadata": {
        "id": "8Xfrc6C94Cnq"
      },
      "execution_count": 34,
      "outputs": []
    },
    {
      "cell_type": "code",
      "source": [
        "nums = [2,0,1]\n",
        "print(sortColors(nums))"
      ],
      "metadata": {
        "colab": {
          "base_uri": "https://localhost:8080/"
        },
        "id": "yeefsBok6s1J",
        "outputId": "a4721fec-b308-43ca-d2e8-6f29539ac921"
      },
      "execution_count": 35,
      "outputs": [
        {
          "output_type": "stream",
          "name": "stdout",
          "text": [
            "[0, 1, 2]\n"
          ]
        }
      ]
    },
    {
      "cell_type": "markdown",
      "source": [
        "# Best time to buy or sell stock"
      ],
      "metadata": {
        "id": "WpsHpxfw_dt7"
      }
    },
    {
      "cell_type": "code",
      "source": [
        "def maxProfit(self, prices):\n",
        "        \"\"\"\n",
        "        :type prices: List[int]\n",
        "        :rtype: int\n",
        "        \"\"\"\n",
        "        profit =0; minu = prices[i]; l = len(prices);\n",
        "        for i in range(0,l):\n",
        "          profit = max(profit,profit-minu);\n",
        "          minu = min(minu,prices[i]);\n",
        "        return profit;"
      ],
      "metadata": {
        "id": "vzz2tgdF_x2R"
      },
      "execution_count": null,
      "outputs": []
    }
  ]
}